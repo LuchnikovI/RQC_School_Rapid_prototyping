{
 "cells": [
  {
   "cell_type": "markdown",
   "metadata": {
    "colab_type": "text",
    "id": "yx5vLlOJWsma"
   },
   "source": [
    "One can open this tutorial in Google Colab (is recommended)\n",
    "\n",
    "[![Open In Colab](https://colab.research.google.com/assets/colab-badge.svg)](https://colab.research.google.com/github/LuchnikovI/RQC_School_Rapid_prototyping/3_Ground_state_of_spin_chain.ipynb)"
   ]
  },
  {
   "cell_type": "markdown",
   "metadata": {
    "colab_type": "text",
    "id": "HxURnIT8WqpF"
   },
   "source": [
    "## Here we import all necessary libraries."
   ]
  },
  {
   "cell_type": "code",
   "execution_count": null,
   "metadata": {
    "colab": {},
    "colab_type": "code",
    "id": "qLEZWMSoO-O7"
   },
   "outputs": [],
   "source": [
    "import tensorflow as tf\n",
    "import matplotlib.pyplot as plt\n",
    "import matplotlib.style as style\n",
    "\n",
    "# Library to build progress bar for optimization\n",
    "from tqdm import tqdm\n",
    "\n",
    "# This library allows us to find ground state\n",
    "# of a spin system with DMRG algorithm.\n",
    "# It is necessary to compare our simple implementation\n",
    "# with DMRG algorithm\n",
    "!pip install mpnum\n",
    "import mpnum as mp"
   ]
  },
  {
   "cell_type": "markdown",
   "metadata": {
    "colab_type": "text",
    "id": "GtTVa3VmUn8o"
   },
   "source": [
    "In this notebook we search for the ground state of a spin chain with local Hamiltonian. One can do it by minimizing of variational energy as follows:\n",
    "\n",
    "$$|g\\rangle = \\underset{|\\psi\\rangle}{\\rm{argmin}}\\frac{\\langle\\psi|H|\\psi\\rangle}{\\langle\\psi|\\psi\\rangle},$$\n",
    "\n",
    "where $|\\psi\\rangle$ is parametrized by MPS. To perform this optimization below we introduce a class mp_tensor that allows to perform all basic operations with tensors in matrix product format. In the illustration below there is an explanation of the structure of mp_tensor class.\n",
    "![broadcasting.png](https://github.com/LuchnikovI/RQC_School_Rapid_prototyping/blob/master/images/mp_tensor.png?raw=1)"
   ]
  },
  {
   "cell_type": "code",
   "execution_count": 98,
   "metadata": {
    "colab": {},
    "colab_type": "code",
    "id": "HjY0S6uzPAgJ"
   },
   "outputs": [],
   "source": [
    "class mp_tensor:\n",
    "    \"\"\"Class allows to operate with matrix product tensors.\n",
    "    Args:\n",
    "        kernels: list of tensors, each tensor has shape \n",
    "            (left_bond, ..., right_bond), where (...) can be any.\"\"\"\n",
    "\n",
    "    def __init__(self, kernels):\n",
    "\n",
    "        # list of kernels\n",
    "        self.kernels = kernels\n",
    "        # local shape of kernel\n",
    "        self.local_shape = kernels[0].shape[1:-1]\n",
    "        # number of local indices of each kernel\n",
    "        self.local_rank = len(self.local_shape)\n",
    "        # number of kernels\n",
    "        self.number_of_kers = len(kernels)\n",
    "        self.dtype = kernels[0].dtype\n",
    "\n",
    "        '''Here we check whether all local shapes are the\n",
    "        same and all bond dimensions are consistent.'''\n",
    "        right_dim = 1\n",
    "        for kernel in kernels:\n",
    "            flag = kernel.shape[1:-1] == self.local_shape\n",
    "            assert flag, 'local shapes are different'\n",
    "            flag = kernel.shape[0] == right_dim\n",
    "            assert flag, 'hidden dims are inconsistent'\n",
    "            right_dim = kernel.shape[-1]\n",
    "        flag = right_dim == 1\n",
    "        assert flag, 'hidden dims are inconsistent'\n",
    "\n",
    "    def einsum(self, string, t):\n",
    "        '''Acts like the standard einsum function but only on\n",
    "        local indices. The same for each kernel.\n",
    "        Args:\n",
    "            string: string, that shows details of convolution\n",
    "            t: mp_tensor that is consistent wirh self\n",
    "        Returns:\n",
    "            new mp_tensor, result of a convolution'''\n",
    "\n",
    "        # preparation of a string\n",
    "        first_tensor, second_tensor = string.split(',')\n",
    "        second_tensor, result = second_tensor.split('->')\n",
    "        tt_string = 'a' + first_tensor + 'b' +\\\n",
    "        ',' + 'c' + second_tensor + 'd' + '->' + 'ac' + result + 'bd'\n",
    "\n",
    "        # application of the einsum function to all kernels\n",
    "        new_kernels = []\n",
    "        for i in range(len(self.kernels)):\n",
    "            conv = tf.einsum(tt_string, self.kernels[i], t.kernels[i])\n",
    "            conv = tf.reshape(conv, (conv.shape[0]*conv.shape[1]) +\\\n",
    "                                     conv.shape[2:-2] +\\\n",
    "                                     (conv.shape[-2]*conv.shape[-1]))\n",
    "            new_kernels.append(conv)\n",
    "            \n",
    "        return mp_tensor(new_kernels)\n",
    "    \n",
    "    def log_convolve(self):\n",
    "        '''Convolves a tensor network without free indices.\n",
    "        Returns:\n",
    "            list with two complex scalar values, the first value\n",
    "            is the phase multiplier exp(i*phi) of a result\n",
    "            and the second value is log(|result|)'''\n",
    "\n",
    "        # checking whether tn has free indices or not\n",
    "        assert len(self.local_shape) == 0, 'incorrect local shape'\n",
    "        '''Here we calculate the phase multiplier exp(i*phi) of a result\n",
    "        and log(|result|) instead of just a value of convolution.\n",
    "        It is done in order to avoid problems with overflow and underflow\n",
    "        during computation. Value of the convolution can be reconstructed\n",
    "        as follows: exp(i*phi)*exp(log(|result|))'''\n",
    "        left = tf.constant([1], dtype=self.dtype)\n",
    "        log_norm = 0\n",
    "        for kernel in self.kernels:\n",
    "            left = tf.tensordot(left, kernel, axes=1)\n",
    "            norm = tf.linalg.norm(left)\n",
    "            left = left / norm\n",
    "            log_norm = log_norm + tf.math.log(norm)\n",
    "        return left, log_norm\n",
    "\n",
    "    def reshape(self, shape):\n",
    "        \"\"\"Reshapes local indices (in place) of mp_tensor.\n",
    "        Args:\n",
    "            shape: tuple, new local shape of all kernels\"\"\"\n",
    "\n",
    "        for i in range(self.number_of_kers):\n",
    "            full_shape = (self.kernels[i].shape[0],) +\\\n",
    "                          shape + (self.kernels[i].shape[-1],)\n",
    "            self.kernels[i] = tf.reshape(self.kernels[i], full_shape)\n",
    "        self.local_shape = shape\n",
    "        self.local_rank = len(shape)\n",
    "\n",
    "    def transpose(self, order):\n",
    "        \"\"\"Transposes local indices (in place) of mp_tensor.\n",
    "        Args:\n",
    "            shape: tuple, new local shape of all kernels\"\"\"\n",
    "\n",
    "        full_order = (0,) + tuple(map(lambda x: x+1, order)) +\\\n",
    "                     (self.local_rank + 1,)\n",
    "        for i in range(self.number_of_kers):\n",
    "            self.kernels[i] = tf.transpose(self.kernels[i], full_order)\n",
    "        self.local_shape = self.kernels[0].shape[1:-1]\n",
    "\n",
    "    def take_log_mps_element(self, indices):\n",
    "        \"\"\"Returns value of MPS for a given set of indices.\n",
    "        Args:\n",
    "            indices: list with indices\n",
    "        list with two complex scalar values, the first value\n",
    "            is the phase multiplier exp(i*phi) of a result\n",
    "            and the second value is log(|result|)\"\"\"\n",
    "\n",
    "        # checking whether a given mp_tensor is mps\n",
    "        assert len(self.local_shape) == 1, 'incorrect local shape'\n",
    "        left = tf.constant([1], dtype=self.dtype)\n",
    "        '''Here we again calculate the phase multiplier exp(i*phi) of a result\n",
    "        and log(|result|) instead of just a value of an MPS element.\n",
    "        It is done in order to avoid problems with overflow and underflow\n",
    "        during computation. Value of an MPS element can be reconstructed\n",
    "        as follows: exp(i*phi)*exp(log(|result|))'''\n",
    "        log_norm = 0\n",
    "        for i, ind in enumerate(indices):\n",
    "            left = tf.tensordot(left, self.kernels[i][:, ind, :], axes=1)\n",
    "            norm = tf.linalg.norm(left)\n",
    "            left = left / norm\n",
    "            log_norm = log_norm + tf.math.log(norm)\n",
    "        return left, log_norm\n",
    "\n",
    "    def conj(self):\n",
    "        '''Return conjugate mp_tensor'''\n",
    "        return mp_tensor(list(map(tf.math.conj, self.kernels)))"
   ]
  },
  {
   "cell_type": "markdown",
   "metadata": {
    "colab_type": "text",
    "id": "wBKN7zalXlth"
   },
   "source": [
    "Here we prepare MPO form of the TFI hamiltonian that has the following form:\n",
    "\n",
    "$$H = \\sum_{i=1}^{N-1}\\sigma^i_z\\sigma_z^{i+1} + \\sum_{i=1}^N h_x\\sigma_x^{i} + h_z\\sigma_z^i$$"
   ]
  },
  {
   "cell_type": "code",
   "execution_count": 101,
   "metadata": {
    "colab": {},
    "colab_type": "code",
    "id": "F5jN6e_vSNnN"
   },
   "outputs": [],
   "source": [
    "#=================Parameters=================#\n",
    "h_z = 0.3  # z component of a magnetic field\n",
    "h_x = 1.  # x component of a magnetic field\n",
    "N = 32  # number of spins\n",
    "bond_dim = 28  # bond dimension\n",
    "#============================================#\n",
    "\n",
    "# Pauli matrices\n",
    "sigma_x = tf.constant([[0, 1], [1, 0]], dtype=tf.complex128)\n",
    "sigma_y = tf.constant([[0 + 0j, -1j], [1j, 0 + 0j]], dtype=tf.complex128)\n",
    "sigma_z = tf.constant([[1, 0], [0, -1]], dtype=tf.complex128)\n",
    "\n",
    "# identical matrix\n",
    "idm = tf.eye(2, dtype=tf.complex128)\n",
    "\n",
    "# matrix filled by zeros\n",
    "z = tf.zeros((2, 2), dtype=tf.complex128)\n",
    "\n",
    "# generalized observable\n",
    "obs = tf.transpose(tf.convert_to_tensor([idm, sigma_x, sigma_y, sigma_z]), (1, 0, 2))\n",
    "\n",
    "'''Here we construct MPO representation of a TFI Hamiltonian'''\n",
    "\n",
    "# MPO of hamiltonian, middle part\n",
    "h_mid = tf.convert_to_tensor([[idm, z, z], [sigma_z, z, z], [h_x * sigma_x + h_z * sigma_z, sigma_z, idm]])\n",
    "h_mid = tf.transpose(h_mid, (0, 2, 3, 1))\n",
    "\n",
    "# MPO of hamiltonian, right part\n",
    "h_right = tf.convert_to_tensor([idm, sigma_z, h_x * sigma_x + h_z * sigma_z])\n",
    "h_right = h_right[..., tf.newaxis]\n",
    "\n",
    "# MPO of hamiltonian, left part\n",
    "h_left = tf.convert_to_tensor([h_x * sigma_x + h_z * sigma_z, sigma_z, idm])\n",
    "h_left = tf.transpose(h_left, (1, 2, 0))\n",
    "h_left = h_left[tf.newaxis]\n",
    "\n",
    "# Hamiltonian in a form of mp_tensor\n",
    "H = mp_tensor([h_left] + (N - 2) * [h_mid] + [h_right])"
   ]
  },
  {
   "cell_type": "markdown",
   "metadata": {
    "colab_type": "text",
    "id": "gfbW9NepYUIM"
   },
   "source": [
    "Here we solve the following optimization problem\n",
    "\n",
    "$$|g\\rangle = \\underset{|\\psi\\rangle}{\\rm{argmin}}\\frac{\\langle\\psi|H|\\psi\\rangle}{\\langle\\psi|\\psi\\rangle},$$\n",
    "\n",
    "using automatic differentiation and Adam optimizer."
   ]
  },
  {
   "cell_type": "code",
   "execution_count": null,
   "metadata": {
    "colab": {},
    "colab_type": "code",
    "id": "7qpL2aU6SYHq"
   },
   "outputs": [],
   "source": [
    "#=============Parameters=============#\n",
    "iters = 1000  # number of iterations\n",
    "lr = 0.1  # optimization step size\n",
    "#====================================#\n",
    "\n",
    "# set of tf.Variables that parametrize MPS representation of a state\n",
    "re_mid = [tf.Variable(tf.random.normal((bond_dim, 2, bond_dim), dtype=tf.float64)) for _ in range(N - 2)]\n",
    "im_mid = [tf.Variable(tf.random.normal((bond_dim, 2, bond_dim), dtype=tf.float64)) for _ in range(N - 2)]\n",
    "re_left = [tf.Variable(tf.random.normal((1, 2, bond_dim), dtype=tf.float64))]\n",
    "im_left = [tf.Variable(tf.random.normal((1, 2, bond_dim), dtype=tf.float64))]\n",
    "re_right = [tf.Variable(tf.random.normal((bond_dim, 2, 1), dtype=tf.float64))]\n",
    "im_right = [tf.Variable(tf.random.normal((bond_dim, 2, 1), dtype=tf.float64))]\n",
    "re = re_left + re_mid + re_right\n",
    "im = im_left + im_mid + im_right\n",
    "\n",
    "# aux. function that helps to convert re and im parts of kernels to\n",
    "# complex kernels\n",
    "cmplx = lambda x: tf.complex(x[0], x[1])\n",
    "# optimizer\n",
    "opt = tf.optimizers.Adam(lr)\n",
    "#  this list will be filled by values of energy per iteration\n",
    "energies = []\n",
    "# optimization loop\n",
    "for _ in tqdm(range(iters)):\n",
    "    with tf.GradientTape() as tape:\n",
    "        # state in mps form\n",
    "        mps = mp_tensor(list(map(cmplx, zip(re, im))))\n",
    "        # conjugated state\n",
    "        mps_conj = mps.conj()\n",
    "        # <psi|H|psi>\n",
    "        H_mps = H.einsum('ij,j->i', mps)\n",
    "        mps_h_mps = mps_conj.einsum('i,i->', H_mps)\n",
    "        mps_h_mps_sign, mps_h_mps_log_norm = mps_h_mps.log_convolve()\n",
    "        # <psi|psi>\n",
    "        mps_mps = mps_conj.einsum('i,i->', mps)\n",
    "        mps_mps_sign, mps_mps_log_norm = mps_mps.log_convolve()\n",
    "        # <psi|H|psi> / <psi|psi>\n",
    "        energy = mps_mps_sign * mps_h_mps_sign * tf.math.exp(mps_h_mps_log_norm - mps_mps_log_norm)\n",
    "        energy = tf.math.real(energy)\n",
    "    # gradient of energy with respect to variables\n",
    "    grad = tape.gradient(energy, re + im)\n",
    "    # adding energy per site to the list\n",
    "    energies.append(energy / N)\n",
    "    # optimization step\n",
    "    opt.apply_gradients(zip(grad, re + im))"
   ]
  },
  {
   "cell_type": "markdown",
   "metadata": {
    "colab_type": "text",
    "id": "b7aLA-14YuO8"
   },
   "source": [
    "Here we solve the same optimization problem, but by using DMRG algorithm implemented in mp_num library."
   ]
  },
  {
   "cell_type": "code",
   "execution_count": 103,
   "metadata": {
    "colab": {},
    "colab_type": "code",
    "id": "pAdWbHimInMX"
   },
   "outputs": [],
   "source": [
    "import functools\n",
    "import scipy\n",
    "def ham(N, h_x, h_z):\n",
    "    \n",
    "    #two-site zz part\n",
    "    h_mpo = mp.MPArray.from_kron([sigma_z.numpy(), sigma_z.numpy()])\n",
    "    #an empty list will be filled by local terms\n",
    "    h = []\n",
    "    \n",
    "    #adding zz terms to the hamiltonian\n",
    "    for startpos in range(N - 1):\n",
    "        left = [mp.MPArray.from_kron([idm.numpy()] * startpos)] if startpos > 0 else []\n",
    "        right = [mp.MPArray.from_kron([idm.numpy()] * (N - 2 - startpos))] if N - 2 - startpos > 0 else []\n",
    "        h_at_startpos = mp.chain(left + [h_mpo] + right)\n",
    "        h.append(h_at_startpos)\n",
    "    \n",
    "    #adding x terms to the hamiltonian\n",
    "    for startpos in range(N):\n",
    "        left = [mp.MPArray.from_kron([idm.numpy()] * startpos)] if startpos > 0 else []\n",
    "        right = [mp.MPArray.from_kron([idm.numpy()] * (N - 1 - startpos))] if N - 1 - startpos > 0 else []\n",
    "        h_at_startpos = mp.chain(left + [mp.MPArray.from_array_global(h_x * sigma_x.numpy())] + right)\n",
    "        h.append(h_at_startpos)\n",
    "    \n",
    "    #adding z terms to the hamiltonian\n",
    "    for startpos in range(N):\n",
    "        left = [mp.MPArray.from_kron([idm.numpy()] * startpos)] if startpos > 0 else []\n",
    "        right = [mp.MPArray.from_kron([idm.numpy()] * (N - 1 - startpos))] if N - 1 - startpos > 0 else []\n",
    "        h_at_startpos = mp.chain(left + [mp.MPArray.from_array_global(h_z * sigma_z.numpy())] + right)\n",
    "        h.append(h_at_startpos)\n",
    "        \n",
    "    H = h[0]\n",
    "    for local_term in h[1:]:\n",
    "        H = H + local_term\n",
    "    out, _ = H.compression(method='svd', relerr=1e-10)\n",
    "    return out\n",
    "\n",
    "mp_H = ham(N, h_x, h_z)\n",
    "eigs = functools.partial(scipy.sparse.linalg.eigsh, k=1, tol=1e-6, which='SA')\n",
    "dmrg_e = mp.linalg.eig(mp_H, 5, startvec_rank=28, eigs=eigs)[0] / N"
   ]
  },
  {
   "cell_type": "markdown",
   "metadata": {
    "colab_type": "text",
    "id": "DvjDnCJUY61r"
   },
   "source": [
    "Here we plot the difference between variational energy found by DMRG algorithm and variational energy found by our simple automatic differentiation based algorithm. One can see, that our algorithm converges to variational energy found by DMRG algorithm."
   ]
  },
  {
   "cell_type": "code",
   "execution_count": 110,
   "metadata": {
    "colab": {
     "base_uri": "https://localhost:8080/",
     "height": 553
    },
    "colab_type": "code",
    "id": "41S2TkXJn_Lr",
    "outputId": "59b6e63f-c522-4905-f069-f014d1f1ffc1"
   },
   "outputs": [
    {
     "name": "stdout",
     "output_type": "stream",
     "text": [
      "Value of energy found by Adam optimizer -1.2701329277280793\n",
      "Value of energy found by DMRG algorithm -1.2701487080837819\n"
     ]
    },
    {
     "data": {
      "image/png": "[encoded data removed]",
      "text/plain": [
       "<Figure size 720x576 with 1 Axes>"
      ]
     },
     "metadata": {
      "needs_background": "light",
      "tags": []
     },
     "output_type": "display_data"
    }
   ],
   "source": [
    "style.use('seaborn-talk')\n",
    "fig = plt.figure(figsize=(10, 8))\n",
    "plt.tick_params(axis='both', which='both', labelsize=17)\n",
    "plt.plot(energies - dmrg_e, 'b')\n",
    "plt.xlabel('iter', fontsize=20)\n",
    "plt.ylabel(r'$E_{\\rm adam} - E_{\\rm dmrg}$', fontsize=20)\n",
    "plt.yscale('log')\n",
    "print('Value of energy found by Adam optimizer {}'.format(energies[-1][0]))\n",
    "print('Value of energy found by DMRG algorithm {}'.format(dmrg_e))\n",
    "plt.savefig('egergy_evolution.pdf')"
   ]
  },
  {
   "cell_type": "markdown",
   "metadata": {
    "colab_type": "text",
    "id": "scn4Mb8XZj_G"
   },
   "source": [
    "Here we calculate correlation functions."
   ]
  },
  {
   "cell_type": "code",
   "execution_count": 111,
   "metadata": {
    "colab": {},
    "colab_type": "code",
    "id": "E9RY01OhBuDJ"
   },
   "outputs": [],
   "source": [
    "# mps_obs_mps is a set of all correlation functions\n",
    "mp_obs = mp_tensor(N * [obs[tf.newaxis, ..., tf.newaxis]])\n",
    "obs_mps = mp_obs.einsum('ikj,j->ik', mps)\n",
    "mps_obs_mps = mps_conj.einsum('i,ik->k', obs_mps)\n",
    "xx = []  # will be filled by <sigma_x, sigma_x>\n",
    "yy = []  # will be filled by <sigma_y, sigma_y>\n",
    "zz = []  # will be filled by <sigma_z, sigma_z>\n",
    "x = []  # will be filled by <sigma_x>\n",
    "y = []  # will be filled by <sigma_y>\n",
    "z = []  # will be filled by <sigma_z>\n",
    "for i in range(N-1):\n",
    "    inds = [1] + i * [0] + [1] + (N - 2 - i) * [0]\n",
    "    sign_corr, log_corr = mps_obs_mps.take_log_mps_element(inds)\n",
    "    corr = sign_corr * mps_mps_sign * tf.math.exp(log_corr - mps_mps_log_norm)\n",
    "    xx.append(corr)\n",
    "for i in range(N-1):\n",
    "    inds = [2] + i * [0] + [2] + (N - 2 - i) * [0]\n",
    "    sign_corr, log_corr = mps_obs_mps.take_log_mps_element(inds)\n",
    "    corr = sign_corr * mps_mps_sign * tf.math.exp(log_corr - mps_mps_log_norm)\n",
    "    yy.append(corr)\n",
    "for i in range(N-1):\n",
    "    inds = [3] + i * [0] + [3] + (N - 2 - i) * [0]\n",
    "    sign_corr, log_corr = mps_obs_mps.take_log_mps_element(inds)\n",
    "    corr = sign_corr * mps_mps_sign * tf.math.exp(log_corr - mps_mps_log_norm)\n",
    "    zz.append(corr)\n",
    "for i in range(N):\n",
    "    inds = N * [0]\n",
    "    inds[i] = 1\n",
    "    sign_corr, log_corr = mps_obs_mps.take_log_mps_element(inds)\n",
    "    corr = sign_corr * mps_mps_sign * tf.math.exp(log_corr - mps_mps_log_norm)\n",
    "    x.append(corr)\n",
    "for i in range(N-1):\n",
    "    inds = N * [0]\n",
    "    inds[i] = 2\n",
    "    sign_corr, log_corr = mps_obs_mps.take_log_mps_element(inds)\n",
    "    corr = sign_corr * mps_mps_sign * tf.math.exp(log_corr - mps_mps_log_norm)\n",
    "    y.append(corr)\n",
    "for i in range(N-1):\n",
    "    inds = N * [0]\n",
    "    inds[i] = 3\n",
    "    sign_corr, log_corr = mps_obs_mps.take_log_mps_element(inds)\n",
    "    corr = sign_corr * mps_mps_sign * tf.math.exp(log_corr - mps_mps_log_norm)\n",
    "    z.append(corr)"
   ]
  },
  {
   "cell_type": "markdown",
   "metadata": {
    "colab_type": "text",
    "id": "0eDMDjlKaGDG"
   },
   "source": [
    "Plotting of correlation functions."
   ]
  },
  {
   "cell_type": "code",
   "execution_count": 112,
   "metadata": {
    "colab": {
     "base_uri": "https://localhost:8080/",
     "height": 661
    },
    "colab_type": "code",
    "id": "HfnFDqD2unUJ",
    "outputId": "64678715-5127-4841-c919-09ab66f472c6"
   },
   "outputs": [
    {
     "name": "stderr",
     "output_type": "stream",
     "text": [
      "/usr/local/lib/python3.6/dist-packages/numpy/core/_asarray.py:85: ComplexWarning: Casting complex values to real discards the imaginary part\n",
      "  return array(a, dtype, copy=False, order=order)\n"
     ]
    },
    {
     "data": {
      "image/png": "[encoded data removed]",
      "text/plain": [
       "<Figure size 1008x720 with 6 Axes>"
      ]
     },
     "metadata": {
      "needs_background": "light",
      "tags": []
     },
     "output_type": "display_data"
    }
   ],
   "source": [
    "plt.figure(figsize=(14, 10))\n",
    "\n",
    "plt.subplot(321)\n",
    "plt.tick_params(axis='both', which='both', labelsize=17)\n",
    "plt.ylabel(r'$\\left\\langle\\sigma_x^{1}\\sigma_x^{i}\\right\\rangle$', fontsize=20)\n",
    "plt.plot(xx, 'r')\n",
    "plt.ylim(top=1, bottom=-1)\n",
    "\n",
    "plt.subplot(322)\n",
    "plt.tick_params(axis='both', which='both', labelsize=17)\n",
    "plt.ylabel(r'$\\left\\langle\\sigma_y^{1}\\sigma_y^{i}\\right\\rangle$', fontsize=20)\n",
    "plt.plot(yy, 'r')\n",
    "plt.ylim(top=1, bottom=-1)\n",
    "\n",
    "plt.subplot(323)\n",
    "plt.tick_params(axis='both', which='both', labelsize=17)\n",
    "plt.ylabel(r'$\\left\\langle\\sigma_z^{1}\\sigma_z^{i}\\right\\rangle$', fontsize=20)\n",
    "plt.xlabel(r'$i$', fontsize=20)\n",
    "plt.plot(zz, 'r')\n",
    "plt.ylim(top=1, bottom=-1)\n",
    "\n",
    "plt.subplot(324)\n",
    "plt.tick_params(axis='both', which='both', labelsize=17)\n",
    "plt.ylabel(r'$\\left\\langle\\sigma_x^{i}\\right\\rangle$', fontsize=20)\n",
    "plt.xlabel(r'$i$', fontsize=20)\n",
    "plt.plot(x, 'b')\n",
    "plt.ylim(top=1, bottom=-1)\n",
    "\n",
    "plt.subplot(325)\n",
    "plt.tick_params(axis='both', which='both', labelsize=17)\n",
    "plt.ylabel(r'$\\left\\langle\\sigma_y^{i}\\right\\rangle$', fontsize=20)\n",
    "plt.xlabel(r'$i$', fontsize=20)\n",
    "plt.plot(y, 'b')\n",
    "plt.ylim(top=1, bottom=-1)\n",
    "\n",
    "plt.subplot(326)\n",
    "plt.tick_params(axis='both', which='both', labelsize=17)\n",
    "plt.ylabel(r'$\\left\\langle\\sigma_z^{i}\\right\\rangle$', fontsize=20)\n",
    "plt.xlabel(r'$i$', fontsize=20)\n",
    "plt.plot(z, 'b')\n",
    "plt.ylim(top=1, bottom=-1)\n",
    "\n",
    "plt.subplots_adjust(wspace=0.3)\n",
    "plt.savefig('corr_functions.pdf')"
   ]
  }
 ],
 "metadata": {
  "accelerator": "GPU",
  "colab": {
   "collapsed_sections": [],
   "name": "3_Ground_state_of_spin_chain.ipynb",
   "provenance": [],
   "toc_visible": true
  },
  "kernelspec": {
   "display_name": "Python [default]",
   "language": "python",
   "name": "python3"
  },
  "language_info": {
   "codemirror_mode": {
    "name": "ipython",
    "version": 3
   },
   "file_extension": ".py",
   "mimetype": "text/x-python",
   "name": "python",
   "nbconvert_exporter": "python",
   "pygments_lexer": "ipython3",
   "version": "3.7.2"
  }
 },
 "nbformat": 4,
 "nbformat_minor": 1
}
