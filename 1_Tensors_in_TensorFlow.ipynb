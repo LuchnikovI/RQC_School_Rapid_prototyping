{
  "nbformat": 4,
  "nbformat_minor": 0,
  "metadata": {
    "colab": {
      "name": "Copy of 1_Tensors_in_TensorFlow.ipynb",
      "provenance": [],
      "collapsed_sections": [],
      "toc_visible": true
    },
    "kernelspec": {
      "name": "python3",
      "display_name": "Python 3"
    }
  },
  "cells": [
    {
      "cell_type": "markdown",
      "metadata": {
        "id": "yO7swJ4J0cZT",
        "colab_type": "text"
      },
      "source": [
        "One can open this tutorial in Google Colab (is recommended)\n",
        "\n",
        "[![Open In Colab](https://colab.research.google.com/assets/colab-badge.svg)](https://colab.research.google.com/github/LuchnikovI/RQC_School_Rapid_prototyping/1_Tensors_in_TensorFlow.ipynb)"
      ]
    },
    {
      "cell_type": "markdown",
      "metadata": {
        "id": "C2w4REhf_edP",
        "colab_type": "text"
      },
      "source": [
        "## Here we import all necessary libraries."
      ]
    },
    {
      "cell_type": "code",
      "metadata": {
        "id": "J0cDM1nr_ZtK",
        "colab_type": "code",
        "colab": {}
      },
      "source": [
        "# the central library we are going to use\n",
        "# to operate with tensors and to perform\n",
        "# optimization\n",
        "import tensorflow as tf\n",
        "\n",
        "# library for plotting\n",
        "import matplotlib.style as style\n",
        "import matplotlib.pyplot as plt\n",
        "\n",
        "import math"
      ],
      "execution_count": 1,
      "outputs": []
    },
    {
      "cell_type": "markdown",
      "metadata": {
        "id": "OSByym6V_tXf",
        "colab_type": "text"
      },
      "source": [
        "## In this notebook we consider a central class tf.Tensor, that represents a tensor (multidimensional table or array), its main attributes and basic manipulations with tensors.\n",
        "### 1) One can initialize tensor in many different ways. Here we show only several basic ones.\n",
        "\n",
        "Tensor of shape (2, 2, 2, 2) and dtype tf.float32 filled by zeros:"
      ]
    },
    {
      "cell_type": "code",
      "metadata": {
        "id": "VwtODpIaKCFx",
        "colab_type": "code",
        "colab": {}
      },
      "source": [
        "zeros = tf.zeros((2, 2, 2, 2), dtype=tf.float32)"
      ],
      "execution_count": null,
      "outputs": []
    },
    {
      "cell_type": "markdown",
      "metadata": {
        "id": "0ocFfAPfKKDY",
        "colab_type": "text"
      },
      "source": [
        "Tensor of shape (3, 3, 3) and dtype tf.float64 filled by ones:"
      ]
    },
    {
      "cell_type": "code",
      "metadata": {
        "id": "49sX7CR5KQJm",
        "colab_type": "code",
        "colab": {}
      },
      "source": [
        "ones = tf.ones((3, 3, 3), dtype=tf.float64)"
      ],
      "execution_count": null,
      "outputs": []
    },
    {
      "cell_type": "markdown",
      "metadata": {
        "id": "lykUFiheKRzY",
        "colab_type": "text"
      },
      "source": [
        "Tensor of shape (2, 2, 2, 2) and dtype tf.float32 filled by i.i.d random samples from the standard normal distribution N(0, 1):"
      ]
    },
    {
      "cell_type": "code",
      "metadata": {
        "id": "rAz2H9AbKgdY",
        "colab_type": "code",
        "colab": {}
      },
      "source": [
        "n = tf.random.normal((2, 2, 2, 2), dtype=tf.float32)"
      ],
      "execution_count": null,
      "outputs": []
    },
    {
      "cell_type": "markdown",
      "metadata": {
        "id": "MyFpWwbKKjG-",
        "colab_type": "text"
      },
      "source": [
        "Tensor of shape (4, 4, 2) and dtype tf.float64 filled by i.i.d random samples from the uniform distribution on the interval (0, 1):"
      ]
    },
    {
      "cell_type": "code",
      "metadata": {
        "id": "Q08QP8MmKrZ_",
        "colab_type": "code",
        "colab": {}
      },
      "source": [
        "u = tf.random.uniform((4, 4, 2), dtype=tf.float64)"
      ],
      "execution_count": null,
      "outputs": []
    },
    {
      "cell_type": "markdown",
      "metadata": {
        "id": "vRO9iICvKvDd",
        "colab_type": "text"
      },
      "source": [
        "The identity matrix of tf.complex128 dtype and size 4x4:"
      ]
    },
    {
      "cell_type": "code",
      "metadata": {
        "id": "Pt0wQ7AYKzWh",
        "colab_type": "code",
        "colab": {}
      },
      "source": [
        "eye = tf.eye(4, dtype=tf.complex128)"
      ],
      "execution_count": null,
      "outputs": []
    },
    {
      "cell_type": "markdown",
      "metadata": {
        "id": "rdKWFNxEK9IN",
        "colab_type": "text"
      },
      "source": [
        "Range of values from 0, to 1 with a step 0.1 of tf.float32 dtype:"
      ]
    },
    {
      "cell_type": "code",
      "metadata": {
        "id": "UlhP9DjQLFxI",
        "colab_type": "code",
        "colab": {}
      },
      "source": [
        "rng = tf.range(0, 1, 0.1, dtype=tf.float32)"
      ],
      "execution_count": null,
      "outputs": []
    },
    {
      "cell_type": "markdown",
      "metadata": {
        "id": "3yKCdLm8LHtA",
        "colab_type": "text"
      },
      "source": [
        "Tensor of dtype tf.float64 built from a python list or np.array:"
      ]
    },
    {
      "cell_type": "code",
      "metadata": {
        "id": "QFSAlLzhLUdX",
        "colab_type": "code",
        "colab": {}
      },
      "source": [
        "const = tf.constant([2, 3, 1, 0], dtype=tf.float64)"
      ],
      "execution_count": null,
      "outputs": []
    },
    {
      "cell_type": "markdown",
      "metadata": {
        "id": "egDvt35CMKdn",
        "colab_type": "text"
      },
      "source": [
        "### 2) Any tensor has several attributes. The most important from them are shape and dtype.\n",
        "\n",
        "Shape is a tuple specifies the sizes of a tensor (height, width, depth, etc):"
      ]
    },
    {
      "cell_type": "code",
      "metadata": {
        "id": "W6UdCc-8MhXq",
        "colab_type": "code",
        "colab": {
          "base_uri": "https://localhost:8080/",
          "height": 34
        },
        "outputId": "3298a896-3555-4717-ff91-5555d2bd8002"
      },
      "source": [
        "print('Shape of a tensor u is {}'.format(u.shape))"
      ],
      "execution_count": null,
      "outputs": [
        {
          "output_type": "stream",
          "text": [
            "Shape of a tensor u is (4, 4, 2)\n"
          ],
          "name": "stdout"
        }
      ]
    },
    {
      "cell_type": "markdown",
      "metadata": {
        "id": "ZLvDaVU5MmE4",
        "colab_type": "text"
      },
      "source": [
        "dtype shows type of values of a tensor. They can be different, the most widely used are tf.float32, tf.float64, tf.complex64, tf.complex128, tf.bool, tf.int16, tf.int32."
      ]
    },
    {
      "cell_type": "code",
      "metadata": {
        "id": "Ft70R33T_eDu",
        "colab_type": "code",
        "colab": {
          "base_uri": "https://localhost:8080/",
          "height": 34
        },
        "outputId": "e5e13aaa-d999-4ee8-c55c-cdfe63007352"
      },
      "source": [
        "print('dtype of a tensor u is {}'.format(u.dtype))"
      ],
      "execution_count": null,
      "outputs": [
        {
          "output_type": "stream",
          "text": [
            "dtype of a tensor u is <dtype: 'float32'>\n"
          ],
          "name": "stdout"
        }
      ]
    },
    {
      "cell_type": "markdown",
      "metadata": {
        "id": "JTDpeb8PHcZm",
        "colab_type": "text"
      },
      "source": [
        "### 3) Now let us consider basic operations over tensors, namely tf.reshape and tf.transpose.\n",
        "\n",
        "In priveouse blocks of code we defined several tensors,\n",
        "let us play with them. For the tensor n with shape (2, 2, 2, 2) let us transform first two indices to multiindex via tf.reshape function (we turn from the shape (2, 2, 2, 2) to (4, 2, 2)). The resulting tensor has 3 indices instead of 4, and its first index is a multiindex obtained by merging first two indices of the input tensor n:"
      ]
    },
    {
      "cell_type": "code",
      "metadata": {
        "id": "zVEsd5ypBIQY",
        "colab_type": "code",
        "colab": {
          "base_uri": "https://localhost:8080/",
          "height": 51
        },
        "outputId": "0b7ca1ec-2aee-4e46-af30-1c5255b5879d"
      },
      "source": [
        "n_resh = tf.reshape(n, (4, 2, 2))\n",
        "print('shape of the input tensor n is {}'.format(n.shape))\n",
        "print('shape of a reshaped tensor n_resh is {}'.format(n_resh.shape))"
      ],
      "execution_count": null,
      "outputs": [
        {
          "output_type": "stream",
          "text": [
            "shape of the input tensor n is (2, 2, 2, 2)\n",
            "shape of a reshaped tensor n_resh is (4, 2, 2)\n"
          ],
          "name": "stdout"
        }
      ]
    },
    {
      "cell_type": "markdown",
      "metadata": {
        "id": "760iCtM7OrWq",
        "colab_type": "text"
      },
      "source": [
        "Now let us rearrange indices of this tensor, assume that we want to swap first and last indices. Note, that in python index numbering starts from 0. One can use tf.transpose function for this purposies. This function takes tensor and new order of indices as an input:"
      ]
    },
    {
      "cell_type": "code",
      "metadata": {
        "id": "AiWtrDBsPtVW",
        "colab_type": "code",
        "colab": {
          "base_uri": "https://localhost:8080/",
          "height": 51
        },
        "outputId": "a76b9699-3573-42ef-9931-273350ce21e9"
      },
      "source": [
        "n_transp = tf.transpose(n_resh, (2, 1, 0))\n",
        "print('shape of the input tensor is {}'.format(n_resh.shape))\n",
        "print('shape of a transposed tensor is {}'.format(n_transp.shape))"
      ],
      "execution_count": null,
      "outputs": [
        {
          "output_type": "stream",
          "text": [
            "shape of the input tensor is (4, 2, 2)\n",
            "shape of a transposed tensor is (2, 2, 4)\n"
          ],
          "name": "stdout"
        }
      ]
    },
    {
      "cell_type": "markdown",
      "metadata": {
        "id": "X7XND3W3QnGD",
        "colab_type": "text"
      },
      "source": [
        "### 4) Let us consider an example from real life.\n",
        "\n",
        "At first we initialize density matrix of Bell state $\\rho = |\\psi\\rangle\\langle\\psi|, \\ |\\psi\\rangle = \\frac{1}{\\sqrt{2}}\\left(|1\\rangle\\otimes |1\\rangle + |0\\rangle \\otimes |0\\rangle\\right)$:"
      ]
    },
    {
      "cell_type": "code",
      "metadata": {
        "id": "1ImeJswpP-yy",
        "colab_type": "code",
        "colab": {
          "base_uri": "https://localhost:8080/",
          "height": 102
        },
        "outputId": "f2a279f3-a040-4ff6-a80a-24dd8be6d610"
      },
      "source": [
        "'''Bell state'''\n",
        "\n",
        "# unnormalized Bell state\n",
        "psi = tf.constant([1, 0, 0, 1], dtype=tf.complex128)\n",
        "# normalized Bell state\n",
        "psi = psi / tf.linalg.norm(psi)\n",
        "\n",
        "# density matrix of Bell state\n",
        "# tf.tensordot computes convalution of two\n",
        "# tensors with respect to neighboring indices,\n",
        "# if number of indices to convolve axes=0, then\n",
        "# it returns tensor product of two tensors\n",
        "rho = tf.tensordot(psi, tf.math.conj(psi), axes=0)\n",
        "print(rho)"
      ],
      "execution_count": null,
      "outputs": [
        {
          "output_type": "stream",
          "text": [
            "tf.Tensor(\n",
            "[[0.5+0.j 0. +0.j 0. +0.j 0.5+0.j]\n",
            " [0. +0.j 0. +0.j 0. +0.j 0. +0.j]\n",
            " [0. +0.j 0. +0.j 0. +0.j 0. +0.j]\n",
            " [0.5+0.j 0. +0.j 0. +0.j 0.5+0.j]], shape=(4, 4), dtype=complex128)\n"
          ],
          "name": "stdout"
        }
      ]
    },
    {
      "cell_type": "markdown",
      "metadata": {
        "id": "3gziXUmUUDqD",
        "colab_type": "text"
      },
      "source": [
        "Now we can calculate partial density matrices of first and second qubits by using tf.reshape and tf.transpose:"
      ]
    },
    {
      "cell_type": "code",
      "metadata": {
        "id": "yHlgb8KxTS5q",
        "colab_type": "code",
        "colab": {
          "base_uri": "https://localhost:8080/",
          "height": 85
        },
        "outputId": "2075f4f4-acf3-4ff0-96eb-52e61c492205"
      },
      "source": [
        "# first of all we reshape density matrix into a\n",
        "# tensor of shape (2, 2, 2, 2) in order to\n",
        "# highlight indexes of first and second qubits\n",
        "rho_resh = tf.reshape(rho, (2, 2, 2, 2))\n",
        "\n",
        "# now we need to take a trace over 1st and\n",
        "# 3rd indices to get the partial density matrix\n",
        "# of first qubit. To do that, let us swap 1st and\n",
        "# 2nd indices in order to group 1st and 3rd indices\n",
        "# at last position\n",
        "rho_transp = tf.transpose(rho_resh, (0, 2, 1, 3))\n",
        "\n",
        "# now we can take a trace with respect to the last two\n",
        "# indices and end up with partial density matrix of\n",
        "# first qubit\n",
        "rho_1 = tf.linalg.trace(rho_transp)\n",
        "print('Density matrix of first qubit is {}'.format(rho_1))\n",
        "\n",
        "# we can do almost the same to calculate density matrix\n",
        "# of second qubit\n",
        "rho_transp = tf.transpose(rho_resh, (1, 3, 0, 2))\n",
        "rho_2 = tf.linalg.trace(rho_transp)\n",
        "print('Density matrix of first qubit is {}'.format(rho_2))"
      ],
      "execution_count": null,
      "outputs": [
        {
          "output_type": "stream",
          "text": [
            "Density matrix of first qubit is [[0.5+0.j 0. +0.j]\n",
            " [0. +0.j 0.5+0.j]]\n",
            "Density matrix of first qubit is [[0.5+0.j 0. +0.j]\n",
            " [0. +0.j 0.5+0.j]]\n"
          ],
          "name": "stdout"
        }
      ]
    },
    {
      "cell_type": "markdown",
      "metadata": {
        "id": "tP2EupBpZMfj",
        "colab_type": "text"
      },
      "source": [
        "One can see, that both partial density matrices are completely mixed, what is expected for Bell state, since Bell state is maximally entangled."
      ]
    },
    {
      "cell_type": "markdown",
      "metadata": {
        "id": "gqeNppWHZ0DQ",
        "colab_type": "text"
      },
      "source": [
        "### 5) Now let us consider basic mathematical operations with tensors."
      ]
    },
    {
      "cell_type": "markdown",
      "metadata": {
        "id": "bEgpZ3NGbmCV",
        "colab_type": "text"
      },
      "source": [
        "Let us initialize several tensors again"
      ]
    },
    {
      "cell_type": "code",
      "metadata": {
        "id": "ZBoaBr54ZcMn",
        "colab_type": "code",
        "colab": {}
      },
      "source": [
        "A = tf.random.uniform((3, 4))  # default dtype is tf.float32\n",
        "B = tf.random.uniform((3, 4))\n",
        "C = tf.random.uniform((5, 3))\n",
        "\n",
        "D = tf.random.uniform((5, 3, 2))\n",
        "E = tf.random.uniform((5, 3, 2))\n",
        "F = tf.random.uniform((2, 3, 5))\n",
        "\n",
        "G = tf.random.uniform((2, 2, 2, 3, 3, 3))\n",
        "H = tf.random.uniform((2, 3, 3, 4))\n",
        "L = tf.random.uniform((10, 10, 10))\n",
        "\n",
        "# random complex matrix\n",
        "K_re = tf.random.uniform((10, 10))\n",
        "K_im = tf.random.uniform((10, 10))\n",
        "K = tf.complex(K_re, K_im)  # dtype = tf.complex64"
      ],
      "execution_count": null,
      "outputs": []
    },
    {
      "cell_type": "markdown",
      "metadata": {
        "id": "UKH08hdldBLb",
        "colab_type": "text"
      },
      "source": [
        "One can perform element wise multiplication, summation, subtraction, division, exponentiation, compartison of tensors:"
      ]
    },
    {
      "cell_type": "code",
      "metadata": {
        "id": "_RBw9S26dJ4q",
        "colab_type": "code",
        "colab": {}
      },
      "source": [
        "D * E  # element wise multiplication\n",
        "D + E  # element wise summation\n",
        "D - E  # element wise subtraction\n",
        "D / E  # element wise division\n",
        "D ** E  # element wise exponentiation\n",
        "D > E  # element wise comparison, returns tensor of type bool\n",
        "D < E  # element wise comparison, returns tensor of type bool\n",
        "D == E  # element wise comparison, returns tensor of type bool\n",
        "D != E  # element wise comparison, returns tensor of type bool"
      ],
      "execution_count": null,
      "outputs": []
    },
    {
      "cell_type": "markdown",
      "metadata": {
        "id": "tFgDE2K8yB5D",
        "colab_type": "text"
      },
      "source": [
        "We can take different subtensors:\n",
        "![slices.png](https://github.com/LuchnikovI/RQC_School_Rapid_prototyping/blob/master/images/slices.png?raw=1)"
      ]
    },
    {
      "cell_type": "code",
      "metadata": {
        "id": "1tNB-En1yCLO",
        "colab_type": "code",
        "colab": {}
      },
      "source": [
        "# we can fix some index and take the rest of a tensor\n",
        "print(L[:, :, 0].shape)\n",
        "# we can take a slice with respect to some axis\n",
        "print(L[:, 2:5].shape)\n",
        "# we can address indices of a tensor from the end\n",
        "print(L[:, -2].shape)\n",
        "# we can add auxiliary indices\n",
        "print(L[:, tf.newaxis, :].shape)\n",
        "# etc\n",
        "# play with different combinations of indexing"
      ],
      "execution_count": null,
      "outputs": []
    },
    {
      "cell_type": "markdown",
      "metadata": {
        "id": "StYULytafLvR",
        "colab_type": "text"
      },
      "source": [
        "One can apply different element wise mathematical functions:"
      ]
    },
    {
      "cell_type": "code",
      "metadata": {
        "id": "P6_r2tdbef9e",
        "colab_type": "code",
        "colab": {}
      },
      "source": [
        "tf.math.exp(D)  # element wise exponent\n",
        "tf.math.log(D)  # element wise logarithm\n",
        "tf.math.atan(D)  # element wise atan\n",
        "tf.math.sqrt(D)  # element wise sqrt\n",
        "# etc"
      ],
      "execution_count": null,
      "outputs": []
    },
    {
      "cell_type": "markdown",
      "metadata": {
        "id": "MY-t-3Q3f8Nb",
        "colab_type": "text"
      },
      "source": [
        "One can apply different operations that reduce dimensionality of a tensor, e.g. find a maximum value along some axis of a tensor:"
      ]
    },
    {
      "cell_type": "code",
      "metadata": {
        "id": "XpQvq_bcfUUy",
        "colab_type": "code",
        "colab": {}
      },
      "source": [
        "# find the maximum value along axis 1 (shape: (5, 3, 2) -> (5, 2))\n",
        "tf.reduce_max(D, axis=1)\n",
        "# find sum along axis 2 (shape: (5, 3, 2) -> (5, 3))\n",
        "tf.reduce_sum(D, axis=2)\n",
        "# find product along axis 0 (shape: (5, 3, 2) -> (3, 2))\n",
        "tf.reduce_prod(D, axis=0)\n",
        "# find the mean value along axis 1 (shape: (5, 3, 2) -> (5, 2))\n",
        "tf.reduce_mean(D, axis=1)\n",
        "# etc"
      ],
      "execution_count": null,
      "outputs": []
    },
    {
      "cell_type": "markdown",
      "metadata": {
        "id": "YquQ4GU-h6Qa",
        "colab_type": "text"
      },
      "source": [
        "One can perform convolution between tensors indices using different functions."
      ]
    },
    {
      "cell_type": "code",
      "metadata": {
        "id": "Ie1O0ZQviFff",
        "colab_type": "code",
        "colab": {}
      },
      "source": [
        "# matrix multiplication\n",
        "C @ B\n",
        "# convolution between two neighboring indices of two tensors\n",
        "# shapes: (5, 3, 2)x(2, 3, 5) -> (5, 5)\n",
        "tf.tensordot(E, F, axes=2)"
      ],
      "execution_count": null,
      "outputs": []
    },
    {
      "cell_type": "markdown",
      "metadata": {
        "id": "n8ueBLUAjvuJ",
        "colab_type": "text"
      },
      "source": [
        "Function tf.einsum deserves special attention, due to the fact that it allows to perform complicated convolutions between tensors in one comand. Let us consider the following example of a convolution between tensors:\n",
        "\n",
        "The first string contains the following information. Letters before the comma show all indices of a first tensor, letters after the comma show all indices of the second tensor. If letters are repeated, then einsum takes sum over corresponding indices. Letters after arrow show new order of remaining indices. In the example below, we calculate the following sum:\n",
        "$$C_{njk} = \\sum_{ilm}H_{ijklmn}G_{ilmp}$$."
      ]
    },
    {
      "cell_type": "code",
      "metadata": {
        "id": "dtULkBKUjJV1",
        "colab_type": "code",
        "colab": {}
      },
      "source": [
        "C = tf.einsum('ijklmn,ilmp->njk', G, H)"
      ],
      "execution_count": null,
      "outputs": []
    },
    {
      "cell_type": "markdown",
      "metadata": {
        "id": "cCt9fpbt3aJ_",
        "colab_type": "text"
      },
      "source": [
        "One can perform all basic linear algebraic manipulations with matrices:"
      ]
    },
    {
      "cell_type": "code",
      "metadata": {
        "id": "yszw-Q0K3vWz",
        "colab_type": "code",
        "colab": {}
      },
      "source": [
        "Q, R = tf.linalg.qr(K)  # QR decomposition of a matrix\n",
        "S, U, V = tf.linalg.svd(K)  # SVD decomposition of a matrix\n",
        "eigvals, right_eigvecs = tf.linalg.eig(K)  # eigen decomposition of a matrix\n",
        "expC = tf.linalg.expm(K)  # matrix exponent\n",
        "C_inv = tf.linalg.inv(K)  # inverse matrix\n",
        "K_adj = tf.linalg.adjoint(K)  # conjugate transpose matrix\n",
        "det = tf.linalg.det(K)  # determinant of a matrix\n",
        "sqrt_K = tf.linalg.sqrtm(K)  # matrix sqrt\n",
        "# etc"
      ],
      "execution_count": null,
      "outputs": []
    },
    {
      "cell_type": "markdown",
      "metadata": {
        "id": "jzeTu4RK7Ss0",
        "colab_type": "text"
      },
      "source": [
        "### 6) TensorFlow allows us to massively vectorize a code (in most cases, you do not need to use any loops); let us consider several examples."
      ]
    },
    {
      "cell_type": "markdown",
      "metadata": {
        "id": "v1UhobT0ZBu0",
        "colab_type": "text"
      },
      "source": [
        "If you perform linear algebraic operation over a set of matrices you may pass a set of matrices as one tensor. For example:"
      ]
    },
    {
      "cell_type": "code",
      "metadata": {
        "id": "lO-9FZPp5h7Q",
        "colab_type": "code",
        "colab": {
          "base_uri": "https://localhost:8080/",
          "height": 51
        },
        "outputId": "7ea4b18a-ffb7-48b5-a5a8-878e4fe881f6"
      },
      "source": [
        "K = tf.random.normal((1000, 10, 5))\n",
        "Q, R = tf.linalg.qr(K)\n",
        "print('Shape of a resulting Q tensor is {}'.format(Q.shape))\n",
        "print('Shape of a resulting R tensor is {}'.format(R.shape))"
      ],
      "execution_count": null,
      "outputs": [
        {
          "output_type": "stream",
          "text": [
            "Shape of a resulting Q tensor is (1000, 10, 5)\n",
            "Shape of a resulting R tensor is (1000, 5, 5)\n"
          ],
          "name": "stdout"
        }
      ]
    },
    {
      "cell_type": "markdown",
      "metadata": {
        "id": "OKXH3IksaF7K",
        "colab_type": "text"
      },
      "source": [
        "In general, a linear algebraic function treats only two last indices of a tensor as matrix indices. For example:"
      ]
    },
    {
      "cell_type": "code",
      "metadata": {
        "id": "p2TScFsuZqIe",
        "colab_type": "code",
        "colab": {
          "base_uri": "https://localhost:8080/",
          "height": 51
        },
        "outputId": "49714cba-9e6a-4abd-c8d9-f066696fe86a"
      },
      "source": [
        "K = tf.random.normal((2, 2, 2, 2, 10, 5))\n",
        "Q, R = tf.linalg.qr(K)\n",
        "print('Shape of a resulting Q tensor is {}'.format(Q.shape))\n",
        "print('Shape of a resulting R tensor is {}'.format(R.shape))"
      ],
      "execution_count": null,
      "outputs": [
        {
          "output_type": "stream",
          "text": [
            "Shape of a resulting Q tensor is (2, 2, 2, 2, 10, 5)\n",
            "Shape of a resulting R tensor is (2, 2, 2, 2, 5, 5)\n"
          ],
          "name": "stdout"
        }
      ]
    },
    {
      "cell_type": "markdown",
      "metadata": {
        "id": "CKQMUvsJaoLE",
        "colab_type": "text"
      },
      "source": [
        "The same is true for matrix multiplication:"
      ]
    },
    {
      "cell_type": "code",
      "metadata": {
        "id": "t-SzOziDag71",
        "colab_type": "code",
        "colab": {
          "base_uri": "https://localhost:8080/",
          "height": 34
        },
        "outputId": "4fda6f5b-629f-49e7-d9dd-ec556ca6e021"
      },
      "source": [
        "A = tf.random.normal((2, 2, 2, 2, 10, 5))\n",
        "B = tf.random.normal((2, 2, 2, 2, 5, 20))\n",
        "C = A @ B\n",
        "print('Shape of a resulting C tensor is {}'.format(C.shape))"
      ],
      "execution_count": null,
      "outputs": [
        {
          "output_type": "stream",
          "text": [
            "Shape of a resulting C tensor is (2, 2, 2, 2, 10, 20)\n"
          ],
          "name": "stdout"
        }
      ]
    },
    {
      "cell_type": "markdown",
      "metadata": {
        "id": "B4JK5UB-bZCz",
        "colab_type": "text"
      },
      "source": [
        "There is a very useful feature that is called broadcasting. Let us try to take an element wise sum of two tensors with different shapes:"
      ]
    },
    {
      "cell_type": "code",
      "metadata": {
        "id": "qhSQhHt7a1uy",
        "colab_type": "code",
        "colab": {
          "base_uri": "https://localhost:8080/",
          "height": 34
        },
        "outputId": "ea049758-ee94-485c-c80e-535f6b200f0f"
      },
      "source": [
        "A = tf.random.normal((1, 2, 1, 4, 5))\n",
        "B = tf.random.normal((1, 2, 5, 1, 5))\n",
        "C = A + B\n",
        "print('Shape of a resulting tensor is {}'.format(C.shape))"
      ],
      "execution_count": null,
      "outputs": [
        {
          "output_type": "stream",
          "text": [
            "Shape of a resulting tensor is (1, 2, 5, 4, 5)\n"
          ],
          "name": "stdout"
        }
      ]
    },
    {
      "cell_type": "markdown",
      "metadata": {
        "id": "27DgagOsb1dr",
        "colab_type": "text"
      },
      "source": [
        "In this particular case, we do not get any error because TensorFlow performs an additional operation over tensors under the hood. It takes the first tensor of shape (1, 2, 1, 4, 5), makes 5 copies of this tensor out of original one, and concatenates them along axis=2. The resulting tensor has shape (1, 2, 5, 4, 5). The same thing it does with the second tensor: it makes 4 copies of the second tensor and concatenates them along axis=3 and ends up with tensor of shape (1, 2, 5, 4, 5). Now both tensors have the same shape and they can be summed element wisely. The graphical representation of this process is given on the image below.\n",
        "![broadcasting.png](https://github.com/LuchnikovI/RQC_School_Rapid_prototyping/blob/master/images/broadcasting.png?raw=1)"
      ]
    },
    {
      "cell_type": "markdown",
      "metadata": {
        "id": "gI9bM_b04cUm",
        "colab_type": "text"
      },
      "source": [
        "One can use broadcasting to vectorize different operations with tensors. For example, we can calculate tensor product of two sets of vectors:"
      ]
    },
    {
      "cell_type": "code",
      "metadata": {
        "id": "iJnqSAV4hUX4",
        "colab_type": "code",
        "colab": {
          "base_uri": "https://localhost:8080/",
          "height": 34
        },
        "outputId": "60874479-94b8-4a69-fc1e-ce950ce09914"
      },
      "source": [
        "# first set of vectors\n",
        "v = tf.random.normal((1000, 4))  # 1000 vectors of size 4\n",
        "# second set of vectors\n",
        "w = tf.random.normal((1000, 6))  # 1000 vectors of size 6\n",
        "\n",
        "# adding additional dimension to v (shape:(1000, 4)->(1000, 4, 1))\n",
        "v = v[:, :, tf.newaxis]\n",
        "# adding additional dimension to w (shape:(1000, 6)->(1000, 1, 6))\n",
        "w = w[:, tf.newaxis, :]\n",
        "# makinguse of broadcasting (tensor product)\n",
        "wv = w * v\n",
        "print('Shape of a resulting tensor {}'.format(wv.shape))"
      ],
      "execution_count": null,
      "outputs": [
        {
          "output_type": "stream",
          "text": [
            "Shape of a resulting tensor (1000, 4, 6)\n"
          ],
          "name": "stdout"
        }
      ]
    },
    {
      "cell_type": "markdown",
      "metadata": {
        "id": "5pez0jA9CXC-",
        "colab_type": "text"
      },
      "source": [
        "### 7)Now let us consider a simple physical example of spin echo.\n",
        "\n",
        "Here we simulate the behavior of a set of spins that do not interact with each other but have different frequency of precession around $z$ axis. Dynamics of each spin is described by a Hamiltonian $H = \\epsilon \\sigma_x$, where $\\epsilon\\sim N(0, 1)$, which means that frequencies of precession are distributed according to normal distribution. At the beginning all spins in the same state $|\\uparrow\\rangle$, then we apply $\\pi/2$ impulse to the system, wait for time $T$ and apply $\\pi$ impulse. After time  $T$ we should observe the revival of a signal. For simplicity, we assume that each particular spin experiences unitary evolution, i.e. there is no external noise that effects spins dynamics. The code simulatin dynamics of an ensemble is below."
      ]
    },
    {
      "cell_type": "code",
      "metadata": {
        "id": "KyG4DhzEjz-d",
        "colab_type": "code",
        "colab": {}
      },
      "source": [
        "#================Parameters==============#\n",
        "N = 100000  # number of spins\n",
        "dt = 0.1  # time step size\n",
        "warm_up_T = 2  # time before first impuls\n",
        "T = 10  # time before second impuls\n",
        "dT = 1.6  # duration of pi impulse\n",
        "#========================================#\n",
        "\n",
        "# Pauli matrices\n",
        "sigma_x = tf.constant([[0, 1], [1, 0]], dtype=tf.complex128)\n",
        "sigma_y = tf.constant([[0 + 0j, -1j], [1j, 0 + 0j]], dtype=tf.complex128)\n",
        "sigma_z = tf.constant([[1, 0], [0, -1]], dtype=tf.complex128)\n",
        "\n",
        "# All Pauli matrices in one tensor of shape (3, 2, 2)\n",
        "sigma = tf.concat([sigma_x[tf.newaxis],\n",
        "                   sigma_y[tf.newaxis],\n",
        "                   sigma_z[tf.newaxis]], axis=0)\n",
        "\n",
        "'''Initial density matrices'''\n",
        "# denisty matrix of one spin (shape=(2, 2))\n",
        "rho = tf.constant([[1, 0], [0, 0]], dtype=tf.complex128)\n",
        "\n",
        "# density matrix of N spins (shape=(N, 2, 2))\n",
        "rho = rho[tf.newaxis]  # adding aux. dim.\n",
        "rho = tf.tile(rho, (N, 1, 1))  # make copies\n",
        "\n",
        "'''Hamiltonians of all spins'''\n",
        "# Hamiltonian of one spin (shape=(2, 2))\n",
        "H = tf.constant([[0.5, 0], [0, -0.5]], dtype=tf.complex128)\n",
        "\n",
        "# disordered amplitudes of a Hamiltonian (shape=(N, 1, 1))\n",
        "delta = tf.random.normal((N, 1, 1))\n",
        "delta = tf.cast(delta, dtype=tf.complex128)\n",
        "\n",
        "# Hamiltonian per spin (shape=(N, 2, 2))\n",
        "H = H * delta  # making use of broadcasting\n",
        "\n",
        "# Hamiltonians with control signal implementing\n",
        "# pi and pi/2 impulses\n",
        "H_c = H - 0.5 * math.pi * (1 / dT) * sigma_x\n",
        "\n",
        "'''Unitary transformations of all spins'''\n",
        "# Unitary transformations per spin (shape=(N, 2, 2))\n",
        "U = tf.linalg.expm(-1j * H * dt)\n",
        "\n",
        "# Unitary transformations per spin with control\n",
        "U_c = tf.linalg.expm(-1j * H_c * dt)\n",
        "\n",
        "'''Simulation'''\n",
        "list_of_rho = []  # this list will be filed by value of dens. matrix per time step\n",
        "list_of_rho.append(tf.reduce_mean(rho, axis=0)) # adding first dens. matrix\n",
        "warm_up_iters = int(warm_up_T / dt + 1e-3) # number of iterations before first impuls\n",
        "\n",
        "for _ in range(warm_up_iters):\n",
        "    # unitary transformation of all density matrices\n",
        "    rho = U @ rho @ tf.linalg.adjoint(U)\n",
        "    # adding dens. matrix to the list\n",
        "    list_of_rho.append(tf.reduce_mean(rho, axis=0))\n",
        "\n",
        "# firs impulse (pi/2)\n",
        "first_puls_iters = int(0.5*dT / dt + 1e-3)\n",
        "for _ in range(first_puls_iters):\n",
        "    # unitary transformation of all density matrices\n",
        "    rho = U_c @ rho @ tf.linalg.adjoint(U_c)\n",
        "    # adding dens. matrix to the list\n",
        "    list_of_rho.append(tf.reduce_mean(rho, axis=0))\n",
        "\n",
        "iters = int(T / dt + 1e-3)  # number of iterations before second impuls\n",
        "for _ in range(iters):\n",
        "    # unitary transformation of all density matrices\n",
        "    rho = U @ rho @ tf.linalg.adjoint(U)\n",
        "    # adding dens. matrix to the list\n",
        "    list_of_rho.append(tf.reduce_mean(rho, axis=0))\n",
        "\n",
        "# second impulse (pi)\n",
        "second_puls_iters = int(dT / dt + 1e-3)\n",
        "for _ in range(second_puls_iters):\n",
        "    # unitary transformation of all density matrices\n",
        "    rho = U_c @ rho @ tf.linalg.adjoint(U_c)\n",
        "    # adding dens. matrix to the list\n",
        "    list_of_rho.append(tf.reduce_mean(rho, axis=0))\n",
        "\n",
        "iters = 2 * int(T / dt + 1e-3)  #remaining iterations\n",
        "for _ in range(iters):\n",
        "    # unitary transformation of all density matrices\n",
        "    rho = U @ rho @ tf.linalg.adjoint(U)\n",
        "    # adding dens. matrix to the list\n",
        "    list_of_rho.append(tf.reduce_mean(rho, axis=0))\n",
        "\n",
        "# convert list to a tensor\n",
        "list_of_rho = tf.convert_to_tensor(list_of_rho)\n",
        "# corresponding bloch vectors\n",
        "X = tf.einsum('qij,pji->qp', list_of_rho, sigma)"
      ],
      "execution_count": 2,
      "outputs": []
    },
    {
      "cell_type": "markdown",
      "metadata": {
        "id": "VNrsGPdQNmeH",
        "colab_type": "text"
      },
      "source": [
        "Plotting of the result"
      ]
    },
    {
      "cell_type": "code",
      "metadata": {
        "id": "X3DtnjAQkbS4",
        "colab_type": "code",
        "colab": {
          "base_uri": "https://localhost:8080/",
          "height": 389
        },
        "outputId": "dfb790c8-0290-44fd-d94a-733f7f4c92a5"
      },
      "source": [
        "style.use('seaborn-talk')\n",
        "plt.figure(figsize=(12, 4))\n",
        "plt.tick_params(axis='both', which='both', labelsize=17)\n",
        "plt.ylim(top=1.1, bottom=-1.1)\n",
        "plt.plot(tf.linspace(0., 3*T+warm_up_T + 1.5 * dT, X.shape[0]),\n",
        "         X[:, 1], 'r')\n",
        "plt.plot(tf.linspace(0., 3*T+warm_up_T + 1.5 * dT, X.shape[0]),\n",
        "         X[:, 2], 'b')\n",
        "plt.xlabel('Time', fontsize=18)\n",
        "plt.axvspan(warm_up_T, warm_up_T + 0.5*dT, alpha=0.25, color='blue')\n",
        "plt.axvspan(warm_up_T + T + 0.5*dT, warm_up_T + T + 1.5*dT, alpha=0.25, color='red')\n",
        "plt.legend([r'$\\langle\\sigma_y\\rangle$',\n",
        "            r'$\\langle\\sigma_z\\rangle$',\n",
        "            r'$\\pi/2$ impulse',\n",
        "            r'$\\pi$ impulse'], fontsize=13)\n",
        "plt.savefig('spin_echo.pdf')"
      ],
      "execution_count": 4,
      "outputs": [
        {
          "output_type": "stream",
          "text": [
            "/usr/local/lib/python3.6/dist-packages/numpy/core/_asarray.py:85: ComplexWarning: Casting complex values to real discards the imaginary part\n",
            "  return array(a, dtype, copy=False, order=order)\n",
            "/usr/local/lib/python3.6/dist-packages/numpy/core/_asarray.py:85: ComplexWarning: Casting complex values to real discards the imaginary part\n",
            "  return array(a, dtype, copy=False, order=order)\n"
          ],
          "name": "stderr"
        },
        {
          "output_type": "display_data",
          "data": {
            "image/png": "[encoded data removed]",
            "text/plain": [
              "<Figure size 864x288 with 1 Axes>"
            ]
          },
          "metadata": {
            "tags": [],
            "needs_background": "light"
          }
        }
      ]
    }
  ]
}